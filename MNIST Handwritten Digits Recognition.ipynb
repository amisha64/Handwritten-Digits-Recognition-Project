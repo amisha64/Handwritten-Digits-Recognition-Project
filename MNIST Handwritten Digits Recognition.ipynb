{
 "cells": [
  {
   "cell_type": "code",
   "execution_count": 2,
   "metadata": {},
   "outputs": [],
   "source": [
    "import numpy as np\n",
    "import pandas as pd\n",
    "import matplotlib.pyplot as plt"
   ]
  },
  {
   "cell_type": "code",
   "execution_count": 3,
   "metadata": {},
   "outputs": [],
   "source": [
    "df = pd.read_csv('../Downloads/train.csv')"
   ]
  },
  {
   "cell_type": "code",
   "execution_count": 3,
   "metadata": {},
   "outputs": [
    {
     "data": {
      "text/plain": [
       "(42000, 785)"
      ]
     },
     "execution_count": 3,
     "metadata": {},
     "output_type": "execute_result"
    }
   ],
   "source": [
    "df.shape"
   ]
  },
  {
   "cell_type": "code",
   "execution_count": 4,
   "metadata": {},
   "outputs": [
    {
     "name": "stdout",
     "output_type": "stream",
     "text": [
      "<class 'pandas.core.frame.DataFrame'>\n"
     ]
    }
   ],
   "source": [
    "print(type(df))"
   ]
  },
  {
   "cell_type": "code",
   "execution_count": 34,
   "metadata": {},
   "outputs": [],
   "source": [
    "data = df.values #shuffle to get different values everytime we show image\n",
    "np.random.shuffle(data)\n",
    "X= data[:,1:] #pixel values of image\n",
    "Y= data[:,0] #labels of image"
   ]
  },
  {
   "cell_type": "code",
   "execution_count": 35,
   "metadata": {},
   "outputs": [
    {
     "data": {
      "image/png": "[encoded data removed]",
      "text/plain": [
       "<Figure size 720x720 with 25 Axes>"
      ]
     },
     "metadata": {
      "needs_background": "light"
     },
     "output_type": "display_data"
    }
   ],
   "source": [
    "#Visualising Image\n",
    "# X.shape - (42000, 784) and X[0].shape=(784, ) Each image is of size 28*28\n",
    "def drawImg(X,Y,i):\n",
    "    plt.imshow(X[i].reshape(28,28),cmap='gray')\n",
    "    plt.title(Y[i])\n",
    "    plt.show\n",
    "    \n",
    "#drawImg(X,Y,0)    \n",
    "#visualising image as grid of images\n",
    "plt.figure(figsize=(10,10))\n",
    "for i in range(25):\n",
    "    plt.subplot(5,5,i+1) #starts from 1\n",
    "    plt.imshow(X_train[i].reshape(28,28),cmap='gray')\n",
    "    plt.axis('off')\n",
    "    plt.title(Y_train[i])\n",
    "    plt.show"
   ]
  },
  {
   "cell_type": "code",
   "execution_count": 36,
   "metadata": {},
   "outputs": [],
   "source": [
    "#splitting dataset\n",
    "split = int (0.80 *(X.shape[0]))\n",
    "X_train , Y_train = X[:split, :], Y[:split]\n",
    "X_test , Y_test = X[split:, :], Y[split:]\n",
    "\n",
    "#split from sklearn\n",
    "#from sklearn.model_selection import train_test_split\n",
    "#Xtrain, Xtest , Ytrain, Ytest = train_test_split(X,Y,test_size=0.2,random_state=5)"
   ]
  },
  {
   "cell_type": "code",
   "execution_count": 37,
   "metadata": {},
   "outputs": [],
   "source": [
    "#applying knn\n",
    "def dis(x1,x2):\n",
    "    return np.sqrt(sum((x1-x2)**2))\n",
    "\n",
    "def knn(X,Y,queryPoint,k=5):\n",
    "    vals=[]\n",
    "    m= X.shape[0]\n",
    "    for i in range(m):\n",
    "        d= dis(queryPoint,X[i])\n",
    "        vals.append((d, Y[i]))\n",
    "    vals= sorted(vals)\n",
    "    vals =vals[:k]\n",
    "    vals = np.array(vals)\n",
    "    new_vals = np.unique(vals[:,1],return_counts=True)\n",
    "    max_freq = new_vals[1].argmax()\n",
    "    pred = new_vals[0][max_freq]\n",
    "    return pred"
   ]
  },
  {
   "cell_type": "code",
   "execution_count": 38,
   "metadata": {},
   "outputs": [
    {
     "name": "stdout",
     "output_type": "stream",
     "text": [
      "3\n"
     ]
    }
   ],
   "source": [
    "#making predictions\n",
    "p = knn(X_train, Y_train,X_test[0])\n",
    "print(int(p))"
   ]
  },
  {
   "cell_type": "code",
   "execution_count": 39,
   "metadata": {},
   "outputs": [
    {
     "data": {
      "image/png": "[encoded data removed]",
      "text/plain": [
       "<Figure size 432x288 with 1 Axes>"
      ]
     },
     "metadata": {
      "needs_background": "light"
     },
     "output_type": "display_data"
    }
   ],
   "source": [
    "drawImg(X_test, Y_test , 0)"
   ]
  },
  {
   "cell_type": "code",
   "execution_count": 40,
   "metadata": {},
   "outputs": [
    {
     "data": {
      "text/plain": [
       "(array([0, 1, 2, 3, 4, 5, 6, 7, 8, 9]),\n",
       " array([818, 933, 836, 863, 844, 732, 840, 878, 836, 820]))"
      ]
     },
     "execution_count": 40,
     "metadata": {},
     "output_type": "execute_result"
    }
   ],
   "source": [
    "np.unique(Y_test,return_counts=True)"
   ]
  },
  {
   "cell_type": "code",
   "execution_count": 41,
   "metadata": {},
   "outputs": [
    {
     "name": "stdout",
     "output_type": "stream",
     "text": [
      "90\r"
     ]
    }
   ],
   "source": [
    "outputs = []\n",
    "for i in range(100):\n",
    "    pred = knn(X_train,Y_train,X_test[i])\n",
    "    outputs.append(pred)\n",
    "    if i%10==0:\n",
    "        print(i,end='\\r')\n",
    "    \n",
    "outputs = np.array(outputs)"
   ]
  },
  {
   "cell_type": "code",
   "execution_count": 42,
   "metadata": {},
   "outputs": [
    {
     "name": "stdout",
     "output_type": "stream",
     "text": [
      "[3. 5. 1. 0. 9. 7. 0. 5. 5. 0. 4. 8. 2. 9. 3. 3. 1. 0. 5. 4. 8. 5. 2. 7.\n",
      " 3. 4. 0. 3. 7. 1. 1. 0. 2. 8. 5. 1. 0. 3. 8. 4. 2. 3. 1. 1. 3. 1. 2. 5.\n",
      " 1. 7. 3. 6. 8. 7. 3. 1. 8. 3. 8. 3. 6. 1. 2. 9. 9. 7. 4. 3. 8. 8. 1. 4.\n",
      " 9. 9. 4. 7. 1. 3. 6. 2. 5. 3. 1. 7. 8. 6. 2. 0. 3. 6. 2. 6. 8. 4. 0. 4.\n",
      " 2. 7. 5. 6.]\n"
     ]
    }
   ],
   "source": [
    "print(outputs)"
   ]
  },
  {
   "cell_type": "code",
   "execution_count": 43,
   "metadata": {},
   "outputs": [],
   "source": [
    "acc = np.sum(outputs==Y_test[:100])/100.0"
   ]
  },
  {
   "cell_type": "code",
   "execution_count": 44,
   "metadata": {},
   "outputs": [
    {
     "name": "stdout",
     "output_type": "stream",
     "text": [
      "0.97\n"
     ]
    }
   ],
   "source": [
    "print(acc)"
   ]
  },
  {
   "cell_type": "code",
   "execution_count": null,
   "metadata": {},
   "outputs": [],
   "source": []
  }
 ],
 "metadata": {
  "kernelspec": {
   "display_name": "Python 3",
   "language": "python",
   "name": "python3"
  },
  "language_info": {
   "codemirror_mode": {
    "name": "ipython",
    "version": 3
   },
   "file_extension": ".py",
   "mimetype": "text/x-python",
   "name": "python",
   "nbconvert_exporter": "python",
   "pygments_lexer": "ipython3",
   "version": "3.8.3"
  }
 },
 "nbformat": 4,
 "nbformat_minor": 4
}
